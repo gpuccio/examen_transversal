{
  "nbformat": 4,
  "nbformat_minor": 0,
  "metadata": {
    "colab": {
      "provenance": []
    },
    "kernelspec": {
      "name": "python3",
      "display_name": "Python 3"
    },
    "language_info": {
      "name": "python"
    }
  },
  "cells": [
    {
      "cell_type": "code",
      "source": [
        "import numpy as np\n",
        "from google.colab import output\n",
        "mat=np.empty([0,7],dtype=object)\n",
        "TOTAL_VENTAS=0\n",
        "PLATINUM=0\n",
        "GOLD=0\n",
        "SILVER=0"
      ],
      "metadata": {
        "id": "ypW1kItUSMtF"
      },
      "execution_count": 204,
      "outputs": []
    },
    {
      "cell_type": "code",
      "source": [
        "a=range(10)\n",
        "RUT=10\n",
        "unidad=\"0123456789\"\n",
        "for i in unidad:\n",
        "  for e in a:\n",
        "    ASIENTO=int(str(i)+str(e))+1\n",
        "    if int(ASIENTO)<=20:\n",
        "       PRECIO=120000\n",
        "       TIPO=\"Platinum\"\n",
        "    if int(ASIENTO)>=20 and int(ASIENTO)<=50:\n",
        "      PRECIO=80000\n",
        "      TIPO=\"Gold\"\n",
        "    if int(ASIENTO)>50:\n",
        "      PRECIO=50000\n",
        "      TIPO=\"Silver\"\n",
        "    mat= np.append(mat,[[ASIENTO,PRECIO,RUT,TIPO,False,str(int(i)),str((int(e)+1))]], axis=0)\n"
      ],
      "metadata": {
        "id": "zqBLchobOI9Z"
      },
      "execution_count": 205,
      "outputs": []
    },
    {
      "cell_type": "code",
      "source": [
        "def COMPRAR():\n",
        "  global mat, TOTAL_VENTAS, PLATINUM, GOLD, SILVER\n",
        "  flag=True\n",
        "  RUN=\"12345645\"#str(input(\"Ingrese RUT sin digito verificador: \"))\n",
        "  while flag==True:\n",
        "    if len(RUN)<7 and len(RUN)>9: #RUN entre 7 y 8 digitos.\n",
        "      output.clear()\n",
        "      print(\"Valor fuera del rango para RUN.\\n*****\")\n",
        "    CANT=int(input(\"Ingrese la cantidad de entradas a comprar (Máximo 3): \"))\n",
        "    if CANT>3 or CANT<0: #tope 3 entradas por persona.\n",
        "        output.clear()\n",
        "        print(\"Valor fuera del rango de entradas por persona.\\n*****\")\n",
        "    if CANT<4 and CANT>0:\n",
        "      for i in range(CANT):\n",
        "        NUM_ENT=int(input(\"Ingrese el número de asiento deseado:\\n\"))\n",
        "        for i in a:\n",
        "          if mat[i,4]==\"False\" and mat[i,0]==str(NUM_ENT):\n",
        "            mat[i,4]=True\n",
        "            mat[i,2]=RUN\n",
        "            TOTAL_VENTAS+=int(mat[i,1])\n",
        "            if mat[i,3]==\"Platinum\":\n",
        "              PLATINUM+=1\n",
        "            if mat[i,3]==\"Gold\":\n",
        "              GOLD+=1\n",
        "            if mat[i,3]==\"Silver\":\n",
        "              SILVER+=1\n",
        "      flag=False\n",
        "  print(\"Entrada(s) asignada(s) correctamente.\\n\",\"*\"*34)"
      ],
      "metadata": {
        "id": "i-quBW0QWrPp"
      },
      "execution_count": 202,
      "outputs": []
    },
    {
      "cell_type": "code",
      "source": [
        "COMPRAR()"
      ],
      "metadata": {
        "id": "odmgUnj5uSeo"
      },
      "execution_count": null,
      "outputs": []
    },
    {
      "cell_type": "code",
      "source": [
        "mat_asientos=np.empty([10,10],dtype=object)\n",
        "mat_asientos"
      ],
      "metadata": {
        "colab": {
          "base_uri": "https://localhost:8080/"
        },
        "id": "QJf3fwpGuhfc",
        "outputId": "8e60513f-4801-4046-9ce4-fbdfc24faf47"
      },
      "execution_count": 166,
      "outputs": [
        {
          "output_type": "execute_result",
          "data": {
            "text/plain": [
              "array([[None, None, None, None, None, None, None, None, None, None],\n",
              "       [None, None, None, None, None, None, None, None, None, None],\n",
              "       [None, None, None, None, None, None, None, None, None, None],\n",
              "       [None, None, None, None, None, None, None, None, None, None],\n",
              "       [None, None, None, None, None, None, None, None, None, None],\n",
              "       [None, None, None, None, None, None, None, None, None, None],\n",
              "       [None, None, None, None, None, None, None, None, None, None],\n",
              "       [None, None, None, None, None, None, None, None, None, None],\n",
              "       [None, None, None, None, None, None, None, None, None, None],\n",
              "       [None, None, None, None, None, None, None, None, None, None]],\n",
              "      dtype=object)"
            ]
          },
          "metadata": {},
          "execution_count": 166
        }
      ]
    },
    {
      "cell_type": "code",
      "source": [
        "def MOSTRAR():\n",
        "    a=range(10)\n",
        "    for i in a:\n",
        "      if mat[i,4]==\"False\":\n",
        "          e=int(mat[i,5])-1\n",
        "          mat_asientos[e,i]=\"O\"\n",
        "      for i in a:\n",
        "        if mat[i,4]==\"True\":\n",
        "          b=int(mat[i,6])\n",
        "          mat_asientos[b,i]=\"X\"\n",
        "\n"
      ],
      "metadata": {
        "id": "eg1LP43OXWZO"
      },
      "execution_count": 168,
      "outputs": []
    },
    {
      "cell_type": "code",
      "source": [
        "def ASISTENTES():\n",
        ""
      ],
      "metadata": {
        "id": "XzaxQY40YprU"
      },
      "execution_count": null,
      "outputs": []
    },
    {
      "cell_type": "code",
      "source": [
        "def MOSTRAR_GANANCIA():\n",
        "  print(\"Total entradas Platino:\",PLATINUM)\n",
        "  print(\"Total entradas Gold:\",GOLD)\n",
        "  print(\"Total entradas Silver:\",SILVER)\n",
        "  print(\"Total recaudado:\",TOTAL_VENTAS)"
      ],
      "metadata": {
        "id": "_oMiqhheYPCR"
      },
      "execution_count": null,
      "outputs": []
    },
    {
      "cell_type": "code",
      "source": [
        "def SALIR():\n",
        "  print(\"Gracias por operar con nosotros. Ver 1.0 Gianfranco Puccio\")"
      ],
      "metadata": {
        "id": "Wr6LUFRlYRs-"
      },
      "execution_count": 194,
      "outputs": []
    },
    {
      "cell_type": "code",
      "source": [
        "#@title Menú\n",
        "def menu():\n",
        "  try:\n",
        "    option=int(input(\"Por favor elija una opción:\\n1.Comprar entradas.\\n2.Mostrar ubicaciones disponibles.\\n3.Ver listado de asistentes.\\n4.Mostrar ganancias totales.\\n5.Salir del programa.\\n\"))\n",
        "    if option==1:\n",
        "      COMPRAR()\n",
        "    elif option==2:\n",
        "      MOSTRAR()\n",
        "    elif option==3:\n",
        "      ASISTENTES()\n",
        "    elif option==4:\n",
        "      MOSTRAR_GANANCIA()\n",
        "    elif option==5:\n",
        "      SALIR()\n",
        "    else:\n",
        "      output.clear()\n",
        "      print(\"El valor ingresado no es válido, por favor digite nuevamente:\\n******\\n\")\n",
        "      menu()\n",
        "  except ValueError:\n",
        "    output.clear()\n",
        "    print(\"El tipo de dato ingresado no es válido, por favor digite nuevamente:\\n*****\\n\")\n",
        "    menu()\n"
      ],
      "metadata": {
        "id": "TY6XYWx9PjUk"
      },
      "execution_count": 211,
      "outputs": []
    },
    {
      "cell_type": "code",
      "source": [
        "menu()"
      ],
      "metadata": {
        "colab": {
          "base_uri": "https://localhost:8080/"
        },
        "id": "9BqmYj6zPun6",
        "outputId": "b8850bd6-a54a-44ba-8203-5d94f400b891"
      },
      "execution_count": 212,
      "outputs": [
        {
          "output_type": "stream",
          "name": "stdout",
          "text": [
            "Por favor elija una opción:\n",
            "1.Comprar entradas.\n",
            "2.Mostrar ubicaciones disponibles.\n",
            "3.Ver listado de asistentes.\n",
            "4.Mostrar ganancias totales.\n",
            "5.Salir del programa.\n",
            "5\n",
            "Gracias por operar con nosotros. Ver 1.0 Gianfranco Puccio\n"
          ]
        }
      ]
    }
  ]
}